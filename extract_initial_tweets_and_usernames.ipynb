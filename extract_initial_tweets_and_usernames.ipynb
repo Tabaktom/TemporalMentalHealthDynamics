{
 "cells": [
  {
   "cell_type": "markdown",
   "metadata": {},
   "source": [
    "# Diagnosed Group Data Mining\n",
    "Also used for Control Group, Query Search parameter removed and setMaxTweets argument changed"
   ]
  },
  {
   "cell_type": "code",
   "execution_count": null,
   "metadata": {},
   "outputs": [],
   "source": [
    "import GetOldTweets3 as got\n",
    "import pandas as pd\n",
    "from datetime import date\n",
    "s_date = '2019-7-1'#date(2019, 7, 1)\n",
    "e_date = '2019-7-15'#date(2019, 7, 15)\n",
    "path = r'/Users/tom/Desktop/'  \n",
    "interesting = ['I was diagnosed with depression', \"I've been diagnosed with depression\", 'My depression is diagnosed', \"diagnosed with depression\", 'Im diagnosed with depression', 'diagnostically depressed', 'I am clinically depressed'] \n",
    "interesting = ['Mi è stata diagnosticata la depressione', 'viene diagnosticata la mia depressione', 'diagnosticamente depresso', 'diagnosticamente depressa', 'sono clinicamente depresso', 'sono clinicamente depressa', 'ho una grave depressione']\n",
    "interesting = ['Me diagnosticaron depresión', 'Me diagnosticada con depresión', 'Me han diagnosticado depresión', \n",
    "               'Me han diagnosticada depresión', 'Mi depresión es diagnosticada', 'Estoy diagnosticado con depresión', \n",
    "               'Estoy diagnosticada con depresión', 'Estoy clinicamente deprimida', 'Estoy clínicamente deprimido']\n",
    "interesting = [\"On m'a diagnostiqué une dépression\", \"Ma dépression est diagnostiquée\", \"Je suis diagnostiqué avec une dépression\", \"Je suis cliniquement déprimé\"]\n",
    "#interesting =['i have been diagnosed with depression']\n",
    "interesting = [\"Bei mir wurden Depressionen diagnostiziert\",\"Bei mir wurde eine Depression diagnostiziert\", \"meine Depressionsdiagnose\", \"diagnostisch depressiv\", \"Meine Depression wird diagnostiziert\", \"Ich bin klinisch depressiv\", \"Der Arzt sagte, ich sei depressiv\", \"Die Arztin sagte, ich sei depressiv\", \"Ich bin mit Depressionen diagnostiziert\"]\n",
    "id_array, date_array, text_array, retweet_array, geo_array, fav_array, us_array= [],[],[],[],[],[],[] \n",
    "for ind, i in enumerate(interesting): \n",
    "    sum=0\n",
    "    criteria = got.manager.TweetCriteria().setQuerySearch(i).setSince(s_date).setUntil(e_date).setMaxTweets(200).setNear('Frankfurt, Germany').setWithin('500km')                                                \n",
    "    tweet = got.manager.TweetManager.getTweets(criteria)                                                     \n",
    "    for t in tweet:                                                                                          \n",
    "        id_array.append(t.id)                                                                                \n",
    "        date_array.append(t.date)                                                                            \n",
    "        text_array.append(t.text)                                                                            \n",
    "        retweet_array.append(t.retweets)                                                                     \n",
    "        geo_array.append(t.geo)                                                                              \n",
    "        fav_array.append(t.favorites) \n",
    "        us_array.append(t.username)\n",
    "        \n",
    "    sum+=len(text_array)                                                                                     \n",
    "if len(text_array)> 0:                                                                                   \n",
    "    pd.DataFrame({'username': us_array,'date':date_array, 'text':text_array,                                   \n",
    "                  'retweet': retweet_array, 'geo':geo_array, 'fav':fav_array}).drop_duplicates().to_csv(path+'germany_diagnosed_usernames.csv') \n",
    "\n",
    "                                                        "
   ]
  },
  {
   "cell_type": "markdown",
   "metadata": {},
   "source": [
    "# Experiment Dataset Data Mining"
   ]
  },
  {
   "cell_type": "code",
   "execution_count": 5,
   "metadata": {},
   "outputs": [],
   "source": [
    "import pandas as pd\n",
    "import GetOldTweets3 as got\n",
    "import os\n",
    "path = r'/Users/tom/Desktop/germany_tweets/initial/' \n",
    "\n",
    "destination = [fname[:-8] for fname in os.listdir(r'/Users/tom/Desktop/')]#)]france_tweets/development/control_group_tweets')]\n",
    "#dest2 = [fname[:-8] for fname in os.listdir(r'/Users/tom/Desktop/Italy_tweets/development/diagnosed_depression_tweets')]\n",
    "criteria = got.manager.TweetCriteria().setSince('2020-1-1').setUntil('2020-1-15').setNear('Frankfurt, Germany').setWithin('500km').setMaxTweets(10000)#.setLanguage('it')                                                \n",
    "tweet = got.manager.TweetManager.getTweets(criteria)                                                     \n",
    "id_array, date_array, text_array, retweet_array, geo_array, fav_array, us_array= [],[],[],[],[],[],[]                 \n",
    "for t in tweet:  \n",
    "    if t.username not in destination:# and t.username not in dest2 and t.username not in us_array:\n",
    "        id_array.append(t.id)                                                                                \n",
    "        date_array.append(t.date)                                                                            \n",
    "        text_array.append(t.text)                                                                            \n",
    "        retweet_array.append(t.retweets)                                                                     \n",
    "        geo_array.append(t.geo)                                                                              \n",
    "        fav_array.append(t.favorites) \n",
    "        us_array.append(t.username)                                                                                    \n",
    "if len(text_array)> 0:                                                                                   \n",
    "    pd.DataFrame({'username': us_array,'date':date_array, 'text':text_array,                                   \n",
    "                    'retweet': retweet_array, 'geo':geo_array, 'fav':fav_array}).to_csv(path+'Germany_exp_new2.csv')\n",
    "\n",
    "\n",
    "\n",
    "#GetOldTweets3 --near Bourges, France --within 400km --maxtweets 7500 -- lang fr --since 2019-7-1 --until 2019-7-17 --output control_group_frnace.csv\n",
    "\n",
    "\n",
    "\n",
    "\n"
   ]
  },
  {
   "cell_type": "code",
   "execution_count": null,
   "metadata": {},
   "outputs": [],
   "source": []
  }
 ],
 "metadata": {
  "kernelspec": {
   "display_name": "Python 3",
   "language": "python",
   "name": "python3"
  },
  "language_info": {
   "codemirror_mode": {
    "name": "ipython",
    "version": 3
   },
   "file_extension": ".py",
   "mimetype": "text/x-python",
   "name": "python",
   "nbconvert_exporter": "python",
   "pygments_lexer": "ipython3",
   "version": "3.7.6"
  }
 },
 "nbformat": 4,
 "nbformat_minor": 4
}
