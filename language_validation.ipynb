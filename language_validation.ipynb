{
 "cells": [
  {
   "cell_type": "code",
   "execution_count": 31,
   "metadata": {},
   "outputs": [
    {
     "name": "stdout",
     "output_type": "stream",
     "text": [
      "Requirement already satisfied: tweet-preprocessor in /Library/Frameworks/Python.framework/Versions/3.7/lib/python3.7/site-packages (0.5.0)\n",
      "\u001b[33mWARNING: You are using pip version 19.2.3, however version 20.1.1 is available.\n",
      "You should consider upgrading via the 'pip install --upgrade pip' command.\u001b[0m\n"
     ]
    }
   ],
   "source": [
    "#!pip3 install langdetect\n",
    "!pip3 install tweet-preprocessor"
   ]
  },
  {
   "cell_type": "code",
   "execution_count": 1,
   "metadata": {
    "scrolled": true
   },
   "outputs": [
    {
     "name": "stderr",
     "output_type": "stream",
     "text": [
      "\r",
      "0it [00:00, ?it/s]"
     ]
    },
    {
     "name": "stdout",
     "output_type": "stream",
     "text": [
      "                          Date     Username  \\\n",
      "0    2020-05-14 16:59:27+00:00      Bea6844   \n",
      "1    2020-05-14 16:57:26+00:00      Bea6844   \n",
      "2    2020-05-14 16:41:47+00:00      Bea6844   \n",
      "3    2020-05-14 16:36:46+00:00      Bea6844   \n",
      "4    2020-05-14 15:16:05+00:00      Bea6844   \n",
      "..                         ...          ...   \n",
      "112  2019-12-04 13:11:56+00:00  hussnaetter   \n",
      "113  2019-12-02 14:30:31+00:00  hussnaetter   \n",
      "114  2019-12-02 14:30:16+00:00  hussnaetter   \n",
      "115  2019-12-02 14:22:54+00:00  hussnaetter   \n",
      "116  2019-12-01 14:35:14+00:00  hussnaetter   \n",
      "\n",
      "                                                 Tweet                   ID  \n",
      "0                                                       1260978039862833158  \n",
      "1    Das stimmt, aber er hätte diese Stellungsmasna...  1260977534805688321  \n",
      "2    Ehrlich, ich auch nicht, das er endlich durchg...  1260973596773691393  \n",
      "3                                   Endlich ist es so   1260972331113033728  \n",
      "4                     Wie war das laufen heute morgen?  1260952029205233664  \n",
      "..                                                 ...                  ...  \n",
      "112                                                NaN  1202213951112728576  \n",
      "113  https://www.immobilienscout24.de/expose/110036...  1201508950132310017  \n",
      "114  https://www.immobilienscout24.de/expose/114656...  1201508888799064064  \n",
      "115  Kawasaki VN 15 https://www.autoscout24.de/ange...  1201507033784225798  \n",
      "116  Wie und wo kann man als Interessent den Umwelt...  1201147750001381376  \n",
      "\n",
      "[623326 rows x 4 columns]\n"
     ]
    },
    {
     "name": "stderr",
     "output_type": "stream",
     "text": [
      "688it [00:51,  1.92s/it] "
     ]
    },
    {
     "name": "stdout",
     "output_type": "stream",
     "text": [
      "Problem 1\n",
      "MoG7mWXEzOyT0pn_got.csv\n",
      "------------------------------    ---------------------    ------------------------------\n"
     ]
    },
    {
     "name": "stderr",
     "output_type": "stream",
     "text": [
      "704it [01:36,  2.43s/it]"
     ]
    },
    {
     "name": "stdout",
     "output_type": "stream",
     "text": [
      "Problem 2\n",
      "sachenka357_got.csv\n",
      "------------------------------    ---------------------    ------------------------------\n"
     ]
    },
    {
     "name": "stderr",
     "output_type": "stream",
     "text": [
      "718it [02:22,  3.92s/it]"
     ]
    },
    {
     "name": "stdout",
     "output_type": "stream",
     "text": [
      "Problem 3\n",
      "007_zeiad_got.csv\n",
      "------------------------------    ---------------------    ------------------------------\n"
     ]
    },
    {
     "name": "stderr",
     "output_type": "stream",
     "text": [
      "730it [03:31,  8.27s/it]"
     ]
    },
    {
     "name": "stdout",
     "output_type": "stream",
     "text": [
      "Problem 4\n",
      "TrimmuXe_got.csv\n",
      "------------------------------    ---------------------    ------------------------------\n"
     ]
    },
    {
     "name": "stderr",
     "output_type": "stream",
     "text": [
      "735it [04:19,  9.56s/it]"
     ]
    },
    {
     "name": "stdout",
     "output_type": "stream",
     "text": [
      "Problem 5\n",
      "PowpzEleganza_got.csv\n",
      "------------------------------    ---------------------    ------------------------------\n"
     ]
    },
    {
     "name": "stderr",
     "output_type": "stream",
     "text": [
      "737it [04:20,  5.02s/it]"
     ]
    },
    {
     "name": "stdout",
     "output_type": "stream",
     "text": [
      "Problem 6\n",
      "RBStephBossler_got.csv\n",
      "------------------------------    ---------------------    ------------------------------\n"
     ]
    },
    {
     "name": "stderr",
     "output_type": "stream",
     "text": [
      "756it [05:26,  2.00s/it]"
     ]
    },
    {
     "name": "stdout",
     "output_type": "stream",
     "text": [
      "Problem 7\n",
      "nathou_au_got.csv\n",
      "------------------------------    ---------------------    ------------------------------\n"
     ]
    },
    {
     "name": "stderr",
     "output_type": "stream",
     "text": [
      "768it [06:04,  2.69s/it]"
     ]
    },
    {
     "name": "stdout",
     "output_type": "stream",
     "text": [
      "Problem 8\n",
      "AFM_AladnaFm_got.csv\n",
      "------------------------------    ---------------------    ------------------------------\n"
     ]
    },
    {
     "name": "stderr",
     "output_type": "stream",
     "text": [
      "794it [08:12,  2.88s/it]"
     ]
    },
    {
     "name": "stdout",
     "output_type": "stream",
     "text": [
      "Problem 9\n",
      "bianca_reiser_got.csv\n",
      "------------------------------    ---------------------    ------------------------------\n"
     ]
    },
    {
     "name": "stderr",
     "output_type": "stream",
     "text": [
      "814it [10:20,  4.92s/it]"
     ]
    },
    {
     "name": "stdout",
     "output_type": "stream",
     "text": [
      "Problem 10\n",
      "elmarokino46_got.csv\n",
      "------------------------------    ---------------------    ------------------------------\n"
     ]
    },
    {
     "name": "stderr",
     "output_type": "stream",
     "text": [
      "834it [11:24,  3.52s/it]"
     ]
    },
    {
     "name": "stdout",
     "output_type": "stream",
     "text": [
      "Problem 11\n",
      "PierreNicolas24_got.csv\n",
      "------------------------------    ---------------------    ------------------------------\n"
     ]
    },
    {
     "name": "stderr",
     "output_type": "stream",
     "text": [
      "847it [12:42,  4.91s/it]"
     ]
    },
    {
     "name": "stdout",
     "output_type": "stream",
     "text": [
      "Problem 12\n",
      "Rushly123456_got.csv\n",
      "------------------------------    ---------------------    ------------------------------\n"
     ]
    },
    {
     "name": "stderr",
     "output_type": "stream",
     "text": [
      "854it [13:06,  3.60s/it]"
     ]
    },
    {
     "name": "stdout",
     "output_type": "stream",
     "text": [
      "Problem 13\n",
      "LiegeradTurust_got.csv\n",
      "------------------------------    ---------------------    ------------------------------\n"
     ]
    },
    {
     "name": "stderr",
     "output_type": "stream",
     "text": [
      "862it [14:04,  3.72s/it]"
     ]
    },
    {
     "name": "stdout",
     "output_type": "stream",
     "text": [
      "Problem 14\n",
      "auptitsawyer_got.csv\n",
      "------------------------------    ---------------------    ------------------------------\n"
     ]
    },
    {
     "name": "stderr",
     "output_type": "stream",
     "text": [
      "873it [15:30,  6.69s/it]"
     ]
    },
    {
     "name": "stdout",
     "output_type": "stream",
     "text": [
      "Problem 15\n",
      "MehdiE_L_got.csv\n",
      "------------------------------    ---------------------    ------------------------------\n"
     ]
    },
    {
     "name": "stderr",
     "output_type": "stream",
     "text": [
      "881it [15:40,  1.07s/it]"
     ]
    },
    {
     "name": "stdout",
     "output_type": "stream",
     "text": [
      "no probs: 15\n",
      "kept: 0.9829738933030647\n"
     ]
    },
    {
     "name": "stderr",
     "output_type": "stream",
     "text": [
      "\n"
     ]
    }
   ],
   "source": [
    "import pandas as pd\n",
    "import os\n",
    "import string\n",
    "from langdetect import detect\n",
    "import preprocessor as p\n",
    "from tqdm import tqdm\n",
    "p.set_options(p.OPT.URL)\n",
    "#path =r'/Users/tom/Desktop/Italy_tweets/development/control_group_tweets/'\n",
    "#path=r'/Users/tom/Desktop/spain_tweets/development/control_group_tweets/'\n",
    "#path =r'/USers/tom/Desktop/france_tweets/development/control_group_tweets/'\n",
    "#path =r'/Users/tom/Desktop/France_tweets/development/diagnosed_depression_tweets/'\n",
    "#path =r'/Users/tom/Desktop/Italy_tweets/development/diagnosed_depression_tweets/'\n",
    "#path =r'/Users/tom/Desktop/Country_A_tweets/Development_Depression_Country_A/new_control_group_clean_tweets/'\n",
    "#path =r'/Users/tom/Desktop/Country_A_tweets/Experiment_depression_Country_A/pre_lockdown_new_clean/'\n",
    "#path =r'/Users/tom/Desktop/spain_tweets/experiment/during_lockdown_og/'\n",
    "path =r'/Users/tom/Desktop/spain_tweets/experiment/pre_lockdown_og/'\n",
    "path =r'/Users/tom/Desktop/France_tweets/development/control_group_og/'\n",
    "path =r'/Users/tom/Desktop/France_tweets/development/diagnosed_depression_og/'\n",
    "path =r'/Users/tom/Desktop/France_tweets/experiment/during_lockdown_og/'\n",
    "path =r'/Users/tom/Desktop/germany_tweets/development/control/'\n",
    "#path =r'/Users/tom/Desktop/exp2/'\n",
    "path =r'/Users/tom/Desktop/germany_tweets/experiment/all/'\n",
    "#path =r'/Users/tom/Desktop/control#/'\n",
    "#path =r'/Users/tom/Desktop/germany_tweets/development/diagnosed/'\n",
    "#path =r'/Users/tom/Desktop/Italy_tweets/experiment/pre/'\n",
    "a = {fname: pd.read_csv(path + fname, index_col=0, parse_dates=True, error_bad_lines=False, engine='python') for fname in os.listdir(path) if fname!='.DS_Store'}\n",
    "\n",
    "prob=0\n",
    "for ind, name in tqdm(enumerate(list(a.keys()))):\n",
    "    if name not in keep:\n",
    "        df = a[name].dropna()\n",
    "        no_samples=len(df.index)\n",
    "        rows=df.dropna().sample(n=no_samples)\n",
    "        cnt=0\n",
    "        no=0\n",
    "        lang=None\n",
    "        for ind, row in rows.iterrows():\n",
    "            skip= False\n",
    "            t = p.tokenize(row.Tweet)\n",
    "            t = ''.join([i for i in t if not i.isdigit()])\n",
    "            t = t.translate(str.maketrans('', '', string.punctuation))\n",
    "            if t != '' and t!=' ':\n",
    "                no+=1\n",
    "                try:\n",
    "                    lang=detect(t)\n",
    "                    if lang == 'de':\n",
    "                        cnt+=1\n",
    "                except:\n",
    "                    pass\n",
    "        if no!=0:\n",
    "            if cnt/no < 0.7 and no>10:\n",
    "                prob+=1\n",
    "                print('Problem', prob)\n",
    "                os.remove(path+name)\n",
    "                print(name)\n",
    "                print('------------------------------    ---------------------    ------------------------------')\n",
    "\n",
    "print('no probs: {}'.format(prob))\n",
    "print('kept: {}'.format((len(list(a.keys()))-prob)/len(list(a.keys()))))\n",
    "\n"
   ]
  }
 ],
 "metadata": {
  "kernelspec": {
   "display_name": "Python 3",
   "language": "python",
   "name": "python3"
  },
  "language_info": {
   "codemirror_mode": {
    "name": "ipython",
    "version": 3
   },
   "file_extension": ".py",
   "mimetype": "text/x-python",
   "name": "python",
   "nbconvert_exporter": "python",
   "pygments_lexer": "ipython3",
   "version": "3.7.6"
  }
 },
 "nbformat": 4,
 "nbformat_minor": 4
}
