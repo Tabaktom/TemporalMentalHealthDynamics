{
  "nbformat": 4,
  "nbformat_minor": 0,
  "metadata": {
    "colab": {
      "name": "Dataset_experiment_SVM.ipynb",
      "provenance": [],
      "collapsed_sections": []
    },
    "kernelspec": {
      "name": "python3",
      "display_name": "Python 3"
    },
    "accelerator": "GPU",
    "widgets": {
      "application/vnd.jupyter.widget-state+json": {
        "68449ab24d904efa82678c3fb3c3fca9": {
          "model_module": "@jupyter-widgets/controls",
          "model_name": "HBoxModel",
          "state": {
            "_view_name": "HBoxView",
            "_dom_classes": [],
            "_model_name": "HBoxModel",
            "_view_module": "@jupyter-widgets/controls",
            "_model_module_version": "1.5.0",
            "_view_count": null,
            "_view_module_version": "1.5.0",
            "box_style": "",
            "layout": "IPY_MODEL_14062778453f4c918023476e293ad35e",
            "_model_module": "@jupyter-widgets/controls",
            "children": [
              "IPY_MODEL_0cebb670c4004945afb36b9aa0e0b34f",
              "IPY_MODEL_81c17d20c8fb44c18dadcc4cdbbd0fc8"
            ]
          }
        },
        "14062778453f4c918023476e293ad35e": {
          "model_module": "@jupyter-widgets/base",
          "model_name": "LayoutModel",
          "state": {
            "_view_name": "LayoutView",
            "grid_template_rows": null,
            "right": null,
            "justify_content": null,
            "_view_module": "@jupyter-widgets/base",
            "overflow": null,
            "_model_module_version": "1.2.0",
            "_view_count": null,
            "flex_flow": null,
            "width": null,
            "min_width": null,
            "border": null,
            "align_items": null,
            "bottom": null,
            "_model_module": "@jupyter-widgets/base",
            "top": null,
            "grid_column": null,
            "overflow_y": null,
            "overflow_x": null,
            "grid_auto_flow": null,
            "grid_area": null,
            "grid_template_columns": null,
            "flex": null,
            "_model_name": "LayoutModel",
            "justify_items": null,
            "grid_row": null,
            "max_height": null,
            "align_content": null,
            "visibility": null,
            "align_self": null,
            "height": null,
            "min_height": null,
            "padding": null,
            "grid_auto_rows": null,
            "grid_gap": null,
            "max_width": null,
            "order": null,
            "_view_module_version": "1.2.0",
            "grid_template_areas": null,
            "object_position": null,
            "object_fit": null,
            "grid_auto_columns": null,
            "margin": null,
            "display": null,
            "left": null
          }
        },
        "0cebb670c4004945afb36b9aa0e0b34f": {
          "model_module": "@jupyter-widgets/controls",
          "model_name": "FloatProgressModel",
          "state": {
            "_view_name": "ProgressView",
            "style": "IPY_MODEL_f138fbe787f34ec59eee5a5fdd31b508",
            "_dom_classes": [],
            "description": "100%",
            "_model_name": "FloatProgressModel",
            "bar_style": "success",
            "max": 5000,
            "_view_module": "@jupyter-widgets/controls",
            "_model_module_version": "1.5.0",
            "value": 5000,
            "_view_count": null,
            "_view_module_version": "1.5.0",
            "orientation": "horizontal",
            "min": 0,
            "description_tooltip": null,
            "_model_module": "@jupyter-widgets/controls",
            "layout": "IPY_MODEL_31d738e213a34f9791e046ea2f503db0"
          }
        },
        "81c17d20c8fb44c18dadcc4cdbbd0fc8": {
          "model_module": "@jupyter-widgets/controls",
          "model_name": "HTMLModel",
          "state": {
            "_view_name": "HTMLView",
            "style": "IPY_MODEL_719f555b139e4c33a43dcc21f755556f",
            "_dom_classes": [],
            "description": "",
            "_model_name": "HTMLModel",
            "placeholder": "​",
            "_view_module": "@jupyter-widgets/controls",
            "_model_module_version": "1.5.0",
            "value": " 5000/5000 [00:00&lt;00:00, 5948.70it/s]",
            "_view_count": null,
            "_view_module_version": "1.5.0",
            "description_tooltip": null,
            "_model_module": "@jupyter-widgets/controls",
            "layout": "IPY_MODEL_34535c70f24d4130bd6d4b7ae83592e6"
          }
        },
        "f138fbe787f34ec59eee5a5fdd31b508": {
          "model_module": "@jupyter-widgets/controls",
          "model_name": "ProgressStyleModel",
          "state": {
            "_view_name": "StyleView",
            "_model_name": "ProgressStyleModel",
            "description_width": "initial",
            "_view_module": "@jupyter-widgets/base",
            "_model_module_version": "1.5.0",
            "_view_count": null,
            "_view_module_version": "1.2.0",
            "bar_color": null,
            "_model_module": "@jupyter-widgets/controls"
          }
        },
        "31d738e213a34f9791e046ea2f503db0": {
          "model_module": "@jupyter-widgets/base",
          "model_name": "LayoutModel",
          "state": {
            "_view_name": "LayoutView",
            "grid_template_rows": null,
            "right": null,
            "justify_content": null,
            "_view_module": "@jupyter-widgets/base",
            "overflow": null,
            "_model_module_version": "1.2.0",
            "_view_count": null,
            "flex_flow": null,
            "width": null,
            "min_width": null,
            "border": null,
            "align_items": null,
            "bottom": null,
            "_model_module": "@jupyter-widgets/base",
            "top": null,
            "grid_column": null,
            "overflow_y": null,
            "overflow_x": null,
            "grid_auto_flow": null,
            "grid_area": null,
            "grid_template_columns": null,
            "flex": null,
            "_model_name": "LayoutModel",
            "justify_items": null,
            "grid_row": null,
            "max_height": null,
            "align_content": null,
            "visibility": null,
            "align_self": null,
            "height": null,
            "min_height": null,
            "padding": null,
            "grid_auto_rows": null,
            "grid_gap": null,
            "max_width": null,
            "order": null,
            "_view_module_version": "1.2.0",
            "grid_template_areas": null,
            "object_position": null,
            "object_fit": null,
            "grid_auto_columns": null,
            "margin": null,
            "display": null,
            "left": null
          }
        },
        "719f555b139e4c33a43dcc21f755556f": {
          "model_module": "@jupyter-widgets/controls",
          "model_name": "DescriptionStyleModel",
          "state": {
            "_view_name": "StyleView",
            "_model_name": "DescriptionStyleModel",
            "description_width": "",
            "_view_module": "@jupyter-widgets/base",
            "_model_module_version": "1.5.0",
            "_view_count": null,
            "_view_module_version": "1.2.0",
            "_model_module": "@jupyter-widgets/controls"
          }
        },
        "34535c70f24d4130bd6d4b7ae83592e6": {
          "model_module": "@jupyter-widgets/base",
          "model_name": "LayoutModel",
          "state": {
            "_view_name": "LayoutView",
            "grid_template_rows": null,
            "right": null,
            "justify_content": null,
            "_view_module": "@jupyter-widgets/base",
            "overflow": null,
            "_model_module_version": "1.2.0",
            "_view_count": null,
            "flex_flow": null,
            "width": null,
            "min_width": null,
            "border": null,
            "align_items": null,
            "bottom": null,
            "_model_module": "@jupyter-widgets/base",
            "top": null,
            "grid_column": null,
            "overflow_y": null,
            "overflow_x": null,
            "grid_auto_flow": null,
            "grid_area": null,
            "grid_template_columns": null,
            "flex": null,
            "_model_name": "LayoutModel",
            "justify_items": null,
            "grid_row": null,
            "max_height": null,
            "align_content": null,
            "visibility": null,
            "align_self": null,
            "height": null,
            "min_height": null,
            "padding": null,
            "grid_auto_rows": null,
            "grid_gap": null,
            "max_width": null,
            "order": null,
            "_view_module_version": "1.2.0",
            "grid_template_areas": null,
            "object_position": null,
            "object_fit": null,
            "grid_auto_columns": null,
            "margin": null,
            "display": null,
            "left": null
          }
        },
        "f4d02aa3fb354b1b9d8c89b97a717b38": {
          "model_module": "@jupyter-widgets/controls",
          "model_name": "HBoxModel",
          "state": {
            "_view_name": "HBoxView",
            "_dom_classes": [],
            "_model_name": "HBoxModel",
            "_view_module": "@jupyter-widgets/controls",
            "_model_module_version": "1.5.0",
            "_view_count": null,
            "_view_module_version": "1.5.0",
            "box_style": "",
            "layout": "IPY_MODEL_1fe5895068e84516b2380ff019ef64cf",
            "_model_module": "@jupyter-widgets/controls",
            "children": [
              "IPY_MODEL_ec4de0af3e984b39bcae7ecaa7a9fe2c",
              "IPY_MODEL_4692ecbf24714ae3accef3733ac1e88a"
            ]
          }
        },
        "1fe5895068e84516b2380ff019ef64cf": {
          "model_module": "@jupyter-widgets/base",
          "model_name": "LayoutModel",
          "state": {
            "_view_name": "LayoutView",
            "grid_template_rows": null,
            "right": null,
            "justify_content": null,
            "_view_module": "@jupyter-widgets/base",
            "overflow": null,
            "_model_module_version": "1.2.0",
            "_view_count": null,
            "flex_flow": null,
            "width": null,
            "min_width": null,
            "border": null,
            "align_items": null,
            "bottom": null,
            "_model_module": "@jupyter-widgets/base",
            "top": null,
            "grid_column": null,
            "overflow_y": null,
            "overflow_x": null,
            "grid_auto_flow": null,
            "grid_area": null,
            "grid_template_columns": null,
            "flex": null,
            "_model_name": "LayoutModel",
            "justify_items": null,
            "grid_row": null,
            "max_height": null,
            "align_content": null,
            "visibility": null,
            "align_self": null,
            "height": null,
            "min_height": null,
            "padding": null,
            "grid_auto_rows": null,
            "grid_gap": null,
            "max_width": null,
            "order": null,
            "_view_module_version": "1.2.0",
            "grid_template_areas": null,
            "object_position": null,
            "object_fit": null,
            "grid_auto_columns": null,
            "margin": null,
            "display": null,
            "left": null
          }
        },
        "ec4de0af3e984b39bcae7ecaa7a9fe2c": {
          "model_module": "@jupyter-widgets/controls",
          "model_name": "FloatProgressModel",
          "state": {
            "_view_name": "ProgressView",
            "style": "IPY_MODEL_184df2566bc64781b65cfe3c8f290d97",
            "_dom_classes": [],
            "description": "100%",
            "_model_name": "FloatProgressModel",
            "bar_style": "success",
            "max": 5000,
            "_view_module": "@jupyter-widgets/controls",
            "_model_module_version": "1.5.0",
            "value": 5000,
            "_view_count": null,
            "_view_module_version": "1.5.0",
            "orientation": "horizontal",
            "min": 0,
            "description_tooltip": null,
            "_model_module": "@jupyter-widgets/controls",
            "layout": "IPY_MODEL_f02f69ac2ea843ee9912b49fa15af9cb"
          }
        },
        "4692ecbf24714ae3accef3733ac1e88a": {
          "model_module": "@jupyter-widgets/controls",
          "model_name": "HTMLModel",
          "state": {
            "_view_name": "HTMLView",
            "style": "IPY_MODEL_2b6845b132ad4318b5b048a0a67432bc",
            "_dom_classes": [],
            "description": "",
            "_model_name": "HTMLModel",
            "placeholder": "​",
            "_view_module": "@jupyter-widgets/controls",
            "_model_module_version": "1.5.0",
            "value": " 5000/5000 [00:00&lt;00:00, 10083.11it/s]",
            "_view_count": null,
            "_view_module_version": "1.5.0",
            "description_tooltip": null,
            "_model_module": "@jupyter-widgets/controls",
            "layout": "IPY_MODEL_25e23f8de6b24dbca9df3fb3abfeef42"
          }
        },
        "184df2566bc64781b65cfe3c8f290d97": {
          "model_module": "@jupyter-widgets/controls",
          "model_name": "ProgressStyleModel",
          "state": {
            "_view_name": "StyleView",
            "_model_name": "ProgressStyleModel",
            "description_width": "initial",
            "_view_module": "@jupyter-widgets/base",
            "_model_module_version": "1.5.0",
            "_view_count": null,
            "_view_module_version": "1.2.0",
            "bar_color": null,
            "_model_module": "@jupyter-widgets/controls"
          }
        },
        "f02f69ac2ea843ee9912b49fa15af9cb": {
          "model_module": "@jupyter-widgets/base",
          "model_name": "LayoutModel",
          "state": {
            "_view_name": "LayoutView",
            "grid_template_rows": null,
            "right": null,
            "justify_content": null,
            "_view_module": "@jupyter-widgets/base",
            "overflow": null,
            "_model_module_version": "1.2.0",
            "_view_count": null,
            "flex_flow": null,
            "width": null,
            "min_width": null,
            "border": null,
            "align_items": null,
            "bottom": null,
            "_model_module": "@jupyter-widgets/base",
            "top": null,
            "grid_column": null,
            "overflow_y": null,
            "overflow_x": null,
            "grid_auto_flow": null,
            "grid_area": null,
            "grid_template_columns": null,
            "flex": null,
            "_model_name": "LayoutModel",
            "justify_items": null,
            "grid_row": null,
            "max_height": null,
            "align_content": null,
            "visibility": null,
            "align_self": null,
            "height": null,
            "min_height": null,
            "padding": null,
            "grid_auto_rows": null,
            "grid_gap": null,
            "max_width": null,
            "order": null,
            "_view_module_version": "1.2.0",
            "grid_template_areas": null,
            "object_position": null,
            "object_fit": null,
            "grid_auto_columns": null,
            "margin": null,
            "display": null,
            "left": null
          }
        },
        "2b6845b132ad4318b5b048a0a67432bc": {
          "model_module": "@jupyter-widgets/controls",
          "model_name": "DescriptionStyleModel",
          "state": {
            "_view_name": "StyleView",
            "_model_name": "DescriptionStyleModel",
            "description_width": "",
            "_view_module": "@jupyter-widgets/base",
            "_model_module_version": "1.5.0",
            "_view_count": null,
            "_view_module_version": "1.2.0",
            "_model_module": "@jupyter-widgets/controls"
          }
        },
        "25e23f8de6b24dbca9df3fb3abfeef42": {
          "model_module": "@jupyter-widgets/base",
          "model_name": "LayoutModel",
          "state": {
            "_view_name": "LayoutView",
            "grid_template_rows": null,
            "right": null,
            "justify_content": null,
            "_view_module": "@jupyter-widgets/base",
            "overflow": null,
            "_model_module_version": "1.2.0",
            "_view_count": null,
            "flex_flow": null,
            "width": null,
            "min_width": null,
            "border": null,
            "align_items": null,
            "bottom": null,
            "_model_module": "@jupyter-widgets/base",
            "top": null,
            "grid_column": null,
            "overflow_y": null,
            "overflow_x": null,
            "grid_auto_flow": null,
            "grid_area": null,
            "grid_template_columns": null,
            "flex": null,
            "_model_name": "LayoutModel",
            "justify_items": null,
            "grid_row": null,
            "max_height": null,
            "align_content": null,
            "visibility": null,
            "align_self": null,
            "height": null,
            "min_height": null,
            "padding": null,
            "grid_auto_rows": null,
            "grid_gap": null,
            "max_width": null,
            "order": null,
            "_view_module_version": "1.2.0",
            "grid_template_areas": null,
            "object_position": null,
            "object_fit": null,
            "grid_auto_columns": null,
            "margin": null,
            "display": null,
            "left": null
          }
        },
        "92ba4fe7bc924ad7a71b7a400ea98cd5": {
          "model_module": "@jupyter-widgets/controls",
          "model_name": "HBoxModel",
          "state": {
            "_view_name": "HBoxView",
            "_dom_classes": [],
            "_model_name": "HBoxModel",
            "_view_module": "@jupyter-widgets/controls",
            "_model_module_version": "1.5.0",
            "_view_count": null,
            "_view_module_version": "1.5.0",
            "box_style": "",
            "layout": "IPY_MODEL_9c9f6560a02846a69d3ba95858525309",
            "_model_module": "@jupyter-widgets/controls",
            "children": [
              "IPY_MODEL_5bd22b7152b44e9d92c19b023c6206e9",
              "IPY_MODEL_5393ecfc066c4e518e2fce8e30a3613c"
            ]
          }
        },
        "9c9f6560a02846a69d3ba95858525309": {
          "model_module": "@jupyter-widgets/base",
          "model_name": "LayoutModel",
          "state": {
            "_view_name": "LayoutView",
            "grid_template_rows": null,
            "right": null,
            "justify_content": null,
            "_view_module": "@jupyter-widgets/base",
            "overflow": null,
            "_model_module_version": "1.2.0",
            "_view_count": null,
            "flex_flow": null,
            "width": null,
            "min_width": null,
            "border": null,
            "align_items": null,
            "bottom": null,
            "_model_module": "@jupyter-widgets/base",
            "top": null,
            "grid_column": null,
            "overflow_y": null,
            "overflow_x": null,
            "grid_auto_flow": null,
            "grid_area": null,
            "grid_template_columns": null,
            "flex": null,
            "_model_name": "LayoutModel",
            "justify_items": null,
            "grid_row": null,
            "max_height": null,
            "align_content": null,
            "visibility": null,
            "align_self": null,
            "height": null,
            "min_height": null,
            "padding": null,
            "grid_auto_rows": null,
            "grid_gap": null,
            "max_width": null,
            "order": null,
            "_view_module_version": "1.2.0",
            "grid_template_areas": null,
            "object_position": null,
            "object_fit": null,
            "grid_auto_columns": null,
            "margin": null,
            "display": null,
            "left": null
          }
        },
        "5bd22b7152b44e9d92c19b023c6206e9": {
          "model_module": "@jupyter-widgets/controls",
          "model_name": "FloatProgressModel",
          "state": {
            "_view_name": "ProgressView",
            "style": "IPY_MODEL_b8a6ea8d7b704480b63fb5ec1e1cf462",
            "_dom_classes": [],
            "description": "100%",
            "_model_name": "FloatProgressModel",
            "bar_style": "success",
            "max": 2500,
            "_view_module": "@jupyter-widgets/controls",
            "_model_module_version": "1.5.0",
            "value": 2500,
            "_view_count": null,
            "_view_module_version": "1.5.0",
            "orientation": "horizontal",
            "min": 0,
            "description_tooltip": null,
            "_model_module": "@jupyter-widgets/controls",
            "layout": "IPY_MODEL_e1e30bbc9ce64a86a4531fe049f6c0fb"
          }
        },
        "5393ecfc066c4e518e2fce8e30a3613c": {
          "model_module": "@jupyter-widgets/controls",
          "model_name": "HTMLModel",
          "state": {
            "_view_name": "HTMLView",
            "style": "IPY_MODEL_4986b177a20c4c9696f7a94eae71bac5",
            "_dom_classes": [],
            "description": "",
            "_model_name": "HTMLModel",
            "placeholder": "​",
            "_view_module": "@jupyter-widgets/controls",
            "_model_module_version": "1.5.0",
            "value": " 2500/2500 [00:00&lt;00:00, 7906.32it/s]",
            "_view_count": null,
            "_view_module_version": "1.5.0",
            "description_tooltip": null,
            "_model_module": "@jupyter-widgets/controls",
            "layout": "IPY_MODEL_2eda29181e5e466e84ef6aeb111ac267"
          }
        },
        "b8a6ea8d7b704480b63fb5ec1e1cf462": {
          "model_module": "@jupyter-widgets/controls",
          "model_name": "ProgressStyleModel",
          "state": {
            "_view_name": "StyleView",
            "_model_name": "ProgressStyleModel",
            "description_width": "initial",
            "_view_module": "@jupyter-widgets/base",
            "_model_module_version": "1.5.0",
            "_view_count": null,
            "_view_module_version": "1.2.0",
            "bar_color": null,
            "_model_module": "@jupyter-widgets/controls"
          }
        },
        "e1e30bbc9ce64a86a4531fe049f6c0fb": {
          "model_module": "@jupyter-widgets/base",
          "model_name": "LayoutModel",
          "state": {
            "_view_name": "LayoutView",
            "grid_template_rows": null,
            "right": null,
            "justify_content": null,
            "_view_module": "@jupyter-widgets/base",
            "overflow": null,
            "_model_module_version": "1.2.0",
            "_view_count": null,
            "flex_flow": null,
            "width": null,
            "min_width": null,
            "border": null,
            "align_items": null,
            "bottom": null,
            "_model_module": "@jupyter-widgets/base",
            "top": null,
            "grid_column": null,
            "overflow_y": null,
            "overflow_x": null,
            "grid_auto_flow": null,
            "grid_area": null,
            "grid_template_columns": null,
            "flex": null,
            "_model_name": "LayoutModel",
            "justify_items": null,
            "grid_row": null,
            "max_height": null,
            "align_content": null,
            "visibility": null,
            "align_self": null,
            "height": null,
            "min_height": null,
            "padding": null,
            "grid_auto_rows": null,
            "grid_gap": null,
            "max_width": null,
            "order": null,
            "_view_module_version": "1.2.0",
            "grid_template_areas": null,
            "object_position": null,
            "object_fit": null,
            "grid_auto_columns": null,
            "margin": null,
            "display": null,
            "left": null
          }
        },
        "4986b177a20c4c9696f7a94eae71bac5": {
          "model_module": "@jupyter-widgets/controls",
          "model_name": "DescriptionStyleModel",
          "state": {
            "_view_name": "StyleView",
            "_model_name": "DescriptionStyleModel",
            "description_width": "",
            "_view_module": "@jupyter-widgets/base",
            "_model_module_version": "1.5.0",
            "_view_count": null,
            "_view_module_version": "1.2.0",
            "_model_module": "@jupyter-widgets/controls"
          }
        },
        "2eda29181e5e466e84ef6aeb111ac267": {
          "model_module": "@jupyter-widgets/base",
          "model_name": "LayoutModel",
          "state": {
            "_view_name": "LayoutView",
            "grid_template_rows": null,
            "right": null,
            "justify_content": null,
            "_view_module": "@jupyter-widgets/base",
            "overflow": null,
            "_model_module_version": "1.2.0",
            "_view_count": null,
            "flex_flow": null,
            "width": null,
            "min_width": null,
            "border": null,
            "align_items": null,
            "bottom": null,
            "_model_module": "@jupyter-widgets/base",
            "top": null,
            "grid_column": null,
            "overflow_y": null,
            "overflow_x": null,
            "grid_auto_flow": null,
            "grid_area": null,
            "grid_template_columns": null,
            "flex": null,
            "_model_name": "LayoutModel",
            "justify_items": null,
            "grid_row": null,
            "max_height": null,
            "align_content": null,
            "visibility": null,
            "align_self": null,
            "height": null,
            "min_height": null,
            "padding": null,
            "grid_auto_rows": null,
            "grid_gap": null,
            "max_width": null,
            "order": null,
            "_view_module_version": "1.2.0",
            "grid_template_areas": null,
            "object_position": null,
            "object_fit": null,
            "grid_auto_columns": null,
            "margin": null,
            "display": null,
            "left": null
          }
        }
      }
    }
  },
  "cells": [
    {
      "cell_type": "code",
      "metadata": {
        "id": "d_D9208FqLjN",
        "colab_type": "code",
        "colab": {
          "base_uri": "https://localhost:8080/",
          "height": 135
        },
        "outputId": "cea22e60-1f96-4349-9eaa-8a722012e376"
      },
      "source": [
        "import pandas as pd\n",
        "!pip install tweet-preprocessor\n",
        "import preprocessor as p\n",
        "import numpy as np\n",
        "from tqdm.notebook import tqdm_notebook, tqdm\n",
        "import requests\n",
        "from io import StringIO\n",
        "from google.colab import drive\n",
        "import string\n",
        "\n",
        "import sys\n",
        "import csv\n",
        "maxInt = sys.maxsize\n",
        "\n",
        "while True:\n",
        "    # decrease the maxInt value by factor 10 \n",
        "    # as long as the OverflowError occurs.\n",
        "\n",
        "    try:\n",
        "        csv.field_size_limit(maxInt)\n",
        "        break\n",
        "    except OverflowError:\n",
        "        maxInt = int(maxInt/10)\n",
        "\n",
        "drive.mount('/content/drive')\n",
        "test_path = '/content/drive/My Drive/UK/development/UK_bal_test_indiv.csv'\n",
        "train = pd.read_csv('/content/drive/My Drive/UK/development/train_indiv.csv', index_col=0, encoding='utf8', engine='python', error_bad_lines=False)\n",
        "train= train.sample(frac=1)[:5000]\n",
        "import nltk\n",
        "from nltk.corpus import gutenberg, stopwords \n",
        "nltk.download('stopwords')\n",
        "stop_words = set(stopwords.words('english')) \n",
        "\n",
        "print(np.shape(train.values))\n",
        "w = train.Label.value_counts(normalize=True)\n",
        "weights ={0:1/w[0], 1:1/w[1]}\n",
        "print(weights)"
      ],
      "execution_count": null,
      "outputs": [
        {
          "output_type": "stream",
          "text": [
            "Requirement already satisfied: tweet-preprocessor in /usr/local/lib/python3.6/dist-packages (0.6.0)\n",
            "Drive already mounted at /content/drive; to attempt to forcibly remount, call drive.mount(\"/content/drive\", force_remount=True).\n",
            "[nltk_data] Downloading package stopwords to /root/nltk_data...\n",
            "[nltk_data]   Package stopwords is already up-to-date!\n",
            "(5000, 4)\n",
            "{0: 1.0895619960775769, 1: 12.165450121654501}\n"
          ],
          "name": "stdout"
        }
      ]
    },
    {
      "cell_type": "markdown",
      "metadata": {
        "id": "Ju1BOzeNO9ui",
        "colab_type": "text"
      },
      "source": [
        "# Preprocessing"
      ]
    },
    {
      "cell_type": "markdown",
      "metadata": {
        "id": "xyfsql6BO00x",
        "colab_type": "text"
      },
      "source": [
        "Cleanining of text samples"
      ]
    },
    {
      "cell_type": "code",
      "metadata": {
        "id": "S3I6yZzaqdf3",
        "colab_type": "code",
        "colab": {
          "base_uri": "https://localhost:8080/",
          "height": 114,
          "referenced_widgets": [
            "68449ab24d904efa82678c3fb3c3fca9",
            "14062778453f4c918023476e293ad35e",
            "0cebb670c4004945afb36b9aa0e0b34f",
            "81c17d20c8fb44c18dadcc4cdbbd0fc8",
            "f138fbe787f34ec59eee5a5fdd31b508",
            "31d738e213a34f9791e046ea2f503db0",
            "719f555b139e4c33a43dcc21f755556f",
            "34535c70f24d4130bd6d4b7ae83592e6",
            "f4d02aa3fb354b1b9d8c89b97a717b38",
            "1fe5895068e84516b2380ff019ef64cf",
            "ec4de0af3e984b39bcae7ecaa7a9fe2c",
            "4692ecbf24714ae3accef3733ac1e88a",
            "184df2566bc64781b65cfe3c8f290d97",
            "f02f69ac2ea843ee9912b49fa15af9cb",
            "2b6845b132ad4318b5b048a0a67432bc",
            "25e23f8de6b24dbca9df3fb3abfeef42"
          ]
        },
        "outputId": "b0b74b5b-e1cf-4b37-d36c-dd51548b31cd"
      },
      "source": [
        "p.set_options(p.OPT.URL, p.OPT.MENTION, p.OPT.HASHTAG)\n",
        "min_occurance =10\n",
        "vocab_freq = {'<UNK>':min_occurance}\n",
        "\n",
        "for tweet in tqdm(train.CTweet.values.tolist()):\n",
        "  #tweet=(((((tweet.replace(',', '')).replace('.', '')).replace('?', '')).replace('!', '')).replace('[', '')).replace(']', '')\n",
        "  tokenized = p.tokenize(tweet).split(' ')\n",
        "  for word in tokenized:\n",
        "    if word not in vocab_freq.keys():\n",
        "      vocab_freq[word] = 1\n",
        "    else:\n",
        "      vocab_freq[word]+=1\n",
        "\n",
        "def input_preprocess(df):\n",
        "  recons_sent = []\n",
        "  for tweet in tqdm(df.CTweet.values.tolist()):\n",
        "    #tweet=(((((tweet.replace(',', '')).replace('.', '')).replace('?', '')).replace('!', '')).replace('[', '')).replace(']', '')\n",
        "    tokenized = p.tokenize(tweet).split(' ')\n",
        "    new_sent = []\n",
        "    for word in tokenized:\n",
        "      if word not in vocab_freq.keys() or vocab_freq[word] <min_occurance-1 or word in stop_words or word.isdigit():\n",
        "        new_sent.append('<UNK>')\n",
        "      else:\n",
        "        new_sent.append(word)\n",
        "    recons_sent.append(' '.join(new_sent))\n",
        "  return recons_sent\n",
        "train_input = input_preprocess(train)"
      ],
      "execution_count": null,
      "outputs": [
        {
          "output_type": "display_data",
          "data": {
            "application/vnd.jupyter.widget-view+json": {
              "model_id": "68449ab24d904efa82678c3fb3c3fca9",
              "version_minor": 0,
              "version_major": 2
            },
            "text/plain": [
              "HBox(children=(FloatProgress(value=0.0, max=5000.0), HTML(value='')))"
            ]
          },
          "metadata": {
            "tags": []
          }
        },
        {
          "output_type": "stream",
          "text": [
            "\n"
          ],
          "name": "stdout"
        },
        {
          "output_type": "display_data",
          "data": {
            "application/vnd.jupyter.widget-view+json": {
              "model_id": "f4d02aa3fb354b1b9d8c89b97a717b38",
              "version_minor": 0,
              "version_major": 2
            },
            "text/plain": [
              "HBox(children=(FloatProgress(value=0.0, max=5000.0), HTML(value='')))"
            ]
          },
          "metadata": {
            "tags": []
          }
        },
        {
          "output_type": "stream",
          "text": [
            "\n"
          ],
          "name": "stdout"
        }
      ]
    },
    {
      "cell_type": "code",
      "metadata": {
        "id": "rnjXxqanrbJI",
        "colab_type": "code",
        "colab": {
          "base_uri": "https://localhost:8080/",
          "height": 570
        },
        "outputId": "bb72c8f5-4cb2-4415-8c0f-928d2736171a"
      },
      "source": [
        "final_vocab =[key for key, val in vocab_freq.items() if val >=min_occurance-1]\n",
        "print(len(final_vocab))\n",
        "train"
      ],
      "execution_count": null,
      "outputs": [
        {
          "output_type": "stream",
          "text": [
            "940\n"
          ],
          "name": "stdout"
        },
        {
          "output_type": "execute_result",
          "data": {
            "text/html": [
              "<div>\n",
              "<style scoped>\n",
              "    .dataframe tbody tr th:only-of-type {\n",
              "        vertical-align: middle;\n",
              "    }\n",
              "\n",
              "    .dataframe tbody tr th {\n",
              "        vertical-align: top;\n",
              "    }\n",
              "\n",
              "    .dataframe thead th {\n",
              "        text-align: right;\n",
              "    }\n",
              "</style>\n",
              "<table border=\"1\" class=\"dataframe\">\n",
              "  <thead>\n",
              "    <tr style=\"text-align: right;\">\n",
              "      <th></th>\n",
              "      <th>Date</th>\n",
              "      <th>Username</th>\n",
              "      <th>CTweet</th>\n",
              "      <th>Label</th>\n",
              "    </tr>\n",
              "  </thead>\n",
              "  <tbody>\n",
              "    <tr>\n",
              "      <th>2709356</th>\n",
              "      <td>2014-11-27 18:21:32+00:00</td>\n",
              "      <td>missgeorgieanne</td>\n",
              "      <td>&lt;S&gt; looking forward to meeting on monday for s...</td>\n",
              "      <td>None</td>\n",
              "    </tr>\n",
              "    <tr>\n",
              "      <th>2430455</th>\n",
              "      <td>2019-02-15 21:00:57+00:00</td>\n",
              "      <td>DanielPryorr</td>\n",
              "      <td>&lt;S&gt; can i get uhh a umm glass of freedom water...</td>\n",
              "      <td>None</td>\n",
              "    </tr>\n",
              "    <tr>\n",
              "      <th>2219898</th>\n",
              "      <td>2019-10-19 21:23:15+00:00</td>\n",
              "      <td>MissKittenFilan</td>\n",
              "      <td>&lt;S&gt; awww im  xx &lt;S/&gt;</td>\n",
              "      <td>Depressed</td>\n",
              "    </tr>\n",
              "    <tr>\n",
              "      <th>83161</th>\n",
              "      <td>2016-09-11 19:17:05+00:00</td>\n",
              "      <td>jessdwi</td>\n",
              "      <td>&lt;S&gt; wonder how long itll take the fa to banfin...</td>\n",
              "      <td>None</td>\n",
              "    </tr>\n",
              "    <tr>\n",
              "      <th>951224</th>\n",
              "      <td>2019-08-02 19:04:32+00:00</td>\n",
              "      <td>spencer_sian</td>\n",
              "      <td>&lt;S&gt; gardening wood walk with amydog ( who is a...</td>\n",
              "      <td>None</td>\n",
              "    </tr>\n",
              "    <tr>\n",
              "      <th>...</th>\n",
              "      <td>...</td>\n",
              "      <td>...</td>\n",
              "      <td>...</td>\n",
              "      <td>...</td>\n",
              "    </tr>\n",
              "    <tr>\n",
              "      <th>2648848</th>\n",
              "      <td>2019-11-23 16:32:06+00:00</td>\n",
              "      <td>speelingmstake</td>\n",
              "      <td>&lt;S&gt; oh boy the one after that though q my whol...</td>\n",
              "      <td>None</td>\n",
              "    </tr>\n",
              "    <tr>\n",
              "      <th>2581487</th>\n",
              "      <td>2019-08-18 16:51:55+00:00</td>\n",
              "      <td>ChrisMears1</td>\n",
              "      <td>&lt;S&gt; with tommy baldwin hes alive and well  &lt;S/&gt;</td>\n",
              "      <td>None</td>\n",
              "    </tr>\n",
              "    <tr>\n",
              "      <th>1568479</th>\n",
              "      <td>2018-07-18 10:34:49+00:00</td>\n",
              "      <td>MattNealRacing</td>\n",
              "      <td>&lt;S&gt; good luck this weekend eyes on the prize b...</td>\n",
              "      <td>None</td>\n",
              "    </tr>\n",
              "    <tr>\n",
              "      <th>2481991</th>\n",
              "      <td>2014-07-22 12:17:17+00:00</td>\n",
              "      <td>Cloutos</td>\n",
              "      <td>&lt;S&gt; but first let me take a selfie worse moon ...</td>\n",
              "      <td>None</td>\n",
              "    </tr>\n",
              "    <tr>\n",
              "      <th>2034164</th>\n",
              "      <td>2014-01-27 05:01:52+00:00</td>\n",
              "      <td>Durpdog96</td>\n",
              "      <td>&lt;S&gt; just casualy setting lions and tigers loos...</td>\n",
              "      <td>Depressed</td>\n",
              "    </tr>\n",
              "  </tbody>\n",
              "</table>\n",
              "<p>5000 rows × 4 columns</p>\n",
              "</div>"
            ],
            "text/plain": [
              "                              Date  ...      Label\n",
              "2709356  2014-11-27 18:21:32+00:00  ...       None\n",
              "2430455  2019-02-15 21:00:57+00:00  ...       None\n",
              "2219898  2019-10-19 21:23:15+00:00  ...  Depressed\n",
              "83161    2016-09-11 19:17:05+00:00  ...       None\n",
              "951224   2019-08-02 19:04:32+00:00  ...       None\n",
              "...                            ...  ...        ...\n",
              "2648848  2019-11-23 16:32:06+00:00  ...       None\n",
              "2581487  2019-08-18 16:51:55+00:00  ...       None\n",
              "1568479  2018-07-18 10:34:49+00:00  ...       None\n",
              "2481991  2014-07-22 12:17:17+00:00  ...       None\n",
              "2034164  2014-01-27 05:01:52+00:00  ...  Depressed\n",
              "\n",
              "[5000 rows x 4 columns]"
            ]
          },
          "metadata": {
            "tags": []
          },
          "execution_count": 34
        }
      ]
    },
    {
      "cell_type": "markdown",
      "metadata": {
        "id": "n_4qoCECPQXh",
        "colab_type": "text"
      },
      "source": [
        "Labels tokenisation"
      ]
    },
    {
      "cell_type": "code",
      "metadata": {
        "id": "IvCiQJiAsRPN",
        "colab_type": "code",
        "colab": {}
      },
      "source": [
        "from keras.utils import to_categorical\n",
        "def labels(df, t = None):\n",
        "  lab = []\n",
        "  if t == 'time':\n",
        "    for l in df['Label'].values:\n",
        "      if 'D' in list(l):\n",
        "        lab.append(1)\n",
        "      else:\n",
        "        lab.append(0)\n",
        "    return (np.array(lab)).astype(int)\n",
        "\n",
        "  else:\n",
        "    if 'Depressed' in df.Label.values.tolist():\n",
        "      print('inside')\n",
        "    #return pd.get_dummies(df.Label).reset_index(drop=True)\n",
        "    \n",
        "    for i in df.Label:\n",
        "      if i =='Depressed':\n",
        "        lab.append(1)\n",
        "      else:\n",
        "        lab.append(0)\n",
        "    return (np.array(lab)).astype(int)\n",
        "\n",
        "train_labels = labels(train, t ='time')\n",
        "\n"
      ],
      "execution_count": null,
      "outputs": []
    },
    {
      "cell_type": "code",
      "metadata": {
        "id": "cOwpGI4asai_",
        "colab_type": "code",
        "colab": {
          "base_uri": "https://localhost:8080/",
          "height": 66,
          "referenced_widgets": [
            "92ba4fe7bc924ad7a71b7a400ea98cd5",
            "9c9f6560a02846a69d3ba95858525309",
            "5bd22b7152b44e9d92c19b023c6206e9",
            "5393ecfc066c4e518e2fce8e30a3613c",
            "b8a6ea8d7b704480b63fb5ec1e1cf462",
            "e1e30bbc9ce64a86a4531fe049f6c0fb",
            "4986b177a20c4c9696f7a94eae71bac5",
            "2eda29181e5e466e84ef6aeb111ac267"
          ]
        },
        "outputId": "10e57671-a001-4d8d-dac9-56bba9b58cd5"
      },
      "source": [
        "test = pd.read_csv(test_path, index_col=0, encoding='utf8', engine='python', error_bad_lines=False)[:2500]\n",
        "test_labels =labels(test, t='time')\n",
        "\n",
        "test_input = input_preprocess(test)\n",
        "\n",
        "\n",
        "#del train, stopwords#, vocab_freq, final_vocab"
      ],
      "execution_count": null,
      "outputs": [
        {
          "output_type": "display_data",
          "data": {
            "application/vnd.jupyter.widget-view+json": {
              "model_id": "92ba4fe7bc924ad7a71b7a400ea98cd5",
              "version_minor": 0,
              "version_major": 2
            },
            "text/plain": [
              "HBox(children=(FloatProgress(value=0.0, max=2500.0), HTML(value='')))"
            ]
          },
          "metadata": {
            "tags": []
          }
        },
        {
          "output_type": "stream",
          "text": [
            "\n"
          ],
          "name": "stdout"
        }
      ]
    },
    {
      "cell_type": "markdown",
      "metadata": {
        "id": "0zgceuOCPJci",
        "colab_type": "text"
      },
      "source": [
        "# Classification"
      ]
    },
    {
      "cell_type": "code",
      "metadata": {
        "id": "-pBP4j6XtJ81",
        "colab_type": "code",
        "colab": {
          "base_uri": "https://localhost:8080/",
          "height": 452
        },
        "outputId": "89a7a5bd-e9b9-46fe-fccb-42e9c19467a0"
      },
      "source": [
        "from sklearn.feature_extraction.text import CountVectorizer\n",
        "from sklearn.metrics import classification_report\n",
        "cv = CountVectorizer()\n",
        "\n",
        "from sklearn.svm import LinearSVC\n",
        "print(list(weights.values()))\n",
        "new_weights = {0:list(weights.values())[0], 1:list(weights.values())[1]}\n",
        "\n",
        "svm = LinearSVC(class_weight=new_weights)#class_weight=new_weights)#class_weight=new_weights)#class_weight=new_weights)\n",
        "svm.fit((cv.fit_transform(train_input)).toarray(), train_labels)\n",
        "\n",
        "\n",
        "predictions = svm.predict((cv.transform(test_input)))\n",
        "\n",
        "print(classification_report(test_labels, predictions, target_names=['None', 'Depressed']))\n"
      ],
      "execution_count": null,
      "outputs": [
        {
          "output_type": "stream",
          "text": [
            "[1.0895619960775769, 12.165450121654501]\n",
            "{0: 1.0895619960775769, 1: 12.165450121654501}\n",
            "started training\n",
            "done training\n",
            "done predicting\n",
            "              precision    recall  f1-score   support\n",
            "\n",
            "        None       0.54      0.72      0.62      1291\n",
            "   Depressed       0.54      0.35      0.43      1209\n",
            "\n",
            "    accuracy                           0.54      2500\n",
            "   macro avg       0.54      0.54      0.52      2500\n",
            "weighted avg       0.54      0.54      0.53      2500\n",
            "\n"
          ],
          "name": "stdout"
        },
        {
          "output_type": "stream",
          "text": [
            "/usr/local/lib/python3.6/dist-packages/sklearn/svm/_base.py:947: ConvergenceWarning: Liblinear failed to converge, increase the number of iterations.\n",
            "  \"the number of iterations.\", ConvergenceWarning)\n"
          ],
          "name": "stderr"
        },
        {
          "output_type": "execute_result",
          "data": {
            "application/vnd.google.colaboratory.intrinsic+json": {
              "type": "string"
            },
            "text/plain": [
              "\"test['Label'] =pd.Series(test_labels, index=test.index)\\ntest= test.dropna()\\ntest_sum = test.groupby('Username').sum()\\ndel test\\ntest_sum\\n\\ntp=0\\ntn=0\\nfn=0\\nfp=0\\nfor label, pred in zip(test_sum['Label'], test_sum['SVM']):\\n    if label == 0:\\n        #Negative\\n        if pred ==0:\\n            tn+=1\\n        elif pred>0:\\n            fp+=1\\n    elif label >0:\\n        if pred>0:\\n            tp+=1\\n        elif pred==0:\\n            fn+=1\\n\\nprint('True Positive: {}, True Negative: {}, False Positive: {}, False Negative: {}'.format(tp, tn, fp, fn))\\npre = tp/(tp+fp)\\nr=tp/(tp+fn)\\nprint('Precision: {}'.format(pre))\\nprint('Recall: {}'.format(r))\\nprint('Fscore: {}'.format(2*(pre*r)/(pre+r)))\""
            ]
          },
          "metadata": {
            "tags": []
          },
          "execution_count": 38
        }
      ]
    }
  ]
}