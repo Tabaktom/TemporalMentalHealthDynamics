{
  "nbformat": 4,
  "nbformat_minor": 0,
  "metadata": {
    "colab": {
      "name": "chi-squared.ipynb",
      "provenance": [],
      "collapsed_sections": [
        "1rd8-8TqEU4J",
        "Ney_sRetRKbZ",
        "DLq3H-2eEa8-"
      ],
      "toc_visible": true
    },
    "kernelspec": {
      "name": "python3",
      "display_name": "Python 3"
    },
    "accelerator": "GPU"
  },
  "cells": [
    {
      "cell_type": "code",
      "metadata": {
        "id": "5OqMXoGMz26s",
        "colab_type": "code",
        "colab": {
          "base_uri": "https://localhost:8080/",
          "height": 135
        },
        "outputId": "4a6793b5-cdcb-4875-88e8-fe29bc1f1998"
      },
      "source": [
        "import pandas as pd\n",
        "from io import StringIO\n",
        "from google.colab import drive\n",
        "import string\n",
        "import numpy\n",
        "\n",
        "\n",
        "drive.mount('/content/drive')\n",
        "uk_path ='/content/drive/My Drive/UK/test_for_validation.csv'\n",
        "spain_path = '/content/drive/My Drive/Spain/development/test_indiv_results.csv'\n",
        "france_path = '/content/drive/My Drive/France/development/test_indiv_results.csv'\n",
        "italy_path = '/content/drive/My Drive/Italy/development/test_indiv_results.csv'\n",
        "germany_path ='/content/drive/My Drive/Germany/development/test_indiv_results.csv'\n",
        "\n",
        "df_uk = pd.read_csv(germany_path, index_col=0, engine='python', error_bad_lines=False)\n",
        "df_uk\n",
        "labels = []\n",
        "for i in df_uk['Label'].values.tolist():\n",
        "  if i == 'None' or i == None:\n",
        "    labels.append(0)\n",
        "  else:\n",
        "    labels.append(1)\n",
        "print(len(labels))"
      ],
      "execution_count": 1,
      "outputs": [
        {
          "output_type": "stream",
          "text": [
            "Go to this URL in a browser: https://accounts.google.com/o/oauth2/auth?client_id=947318989803-6bn6qk8qdgf4n4g3pfee6491hc0brc4i.apps.googleusercontent.com&redirect_uri=urn%3aietf%3awg%3aoauth%3a2.0%3aoob&scope=email%20https%3a%2f%2fwww.googleapis.com%2fauth%2fdocs.test%20https%3a%2f%2fwww.googleapis.com%2fauth%2fdrive%20https%3a%2f%2fwww.googleapis.com%2fauth%2fdrive.photos.readonly%20https%3a%2f%2fwww.googleapis.com%2fauth%2fpeopleapi.readonly&response_type=code\n",
            "\n",
            "Enter your authorization code:\n",
            "··········\n",
            "Mounted at /content/drive\n",
            "592765\n"
          ],
          "name": "stdout"
        }
      ]
    },
    {
      "cell_type": "markdown",
      "metadata": {
        "id": "1rd8-8TqEU4J",
        "colab_type": "text"
      },
      "source": [
        "# Random Weighted and Uniform Classifiers"
      ]
    },
    {
      "cell_type": "code",
      "metadata": {
        "id": "HEeOxnQeFxXL",
        "colab_type": "code",
        "colab": {
          "base_uri": "https://localhost:8080/",
          "height": 33
        },
        "outputId": "a880ab0e-111b-408d-8530-4476725b03c4"
      },
      "source": [
        "unique, unique_counts = numpy.unique(numpy.array(labels), return_counts=True)\n",
        "df_uk['predictions'].values"
      ],
      "execution_count": 11,
      "outputs": [
        {
          "output_type": "execute_result",
          "data": {
            "text/plain": [
              "array([0, 0, 0, ..., 0, 0, 0])"
            ]
          },
          "metadata": {
            "tags": []
          },
          "execution_count": 11
        }
      ]
    },
    {
      "cell_type": "code",
      "metadata": {
        "id": "5tAI9IthuxOr",
        "colab_type": "code",
        "colab": {
          "base_uri": "https://localhost:8080/",
          "height": 33
        },
        "outputId": "4d6336e3-6dd5-4002-eedc-cd39bd1aedb3"
      },
      "source": [
        "random_dist = numpy.random.randint(0,2, sum(unique_counts))\n",
        "random_dist"
      ],
      "execution_count": 12,
      "outputs": [
        {
          "output_type": "execute_result",
          "data": {
            "text/plain": [
              "array([1, 1, 0, ..., 1, 0, 1])"
            ]
          },
          "metadata": {
            "tags": []
          },
          "execution_count": 12
        }
      ]
    },
    {
      "cell_type": "code",
      "metadata": {
        "id": "uMN8zGFhr1KD",
        "colab_type": "code",
        "colab": {}
      },
      "source": [
        "weighted = numpy.array([unique[0]] * unique_counts[0] + [unique[1]] * unique_counts[1])\n",
        "numpy.random.shuffle(weighted)"
      ],
      "execution_count": 13,
      "outputs": []
    },
    {
      "cell_type": "markdown",
      "metadata": {
        "id": "Ney_sRetRKbZ",
        "colab_type": "text"
      },
      "source": [
        "# Chi-squared"
      ]
    },
    {
      "cell_type": "code",
      "metadata": {
        "id": "m6EUFGzTRP6S",
        "colab_type": "code",
        "colab": {
          "base_uri": "https://localhost:8080/",
          "height": 165
        },
        "outputId": "c477d736-4913-486c-fcf5-9797eb187ba8"
      },
      "source": [
        "from scipy.stats import chisquare\n",
        "def pred_type(variable, truth):\n",
        "  tp, fp, tn, fn = 0, 0, 0, 0\n",
        "  for v, t in zip(variable, truth):\n",
        "    if v==1 and t==1:\n",
        "      tp+=1\n",
        "    elif v==1 and t==0:\n",
        "      fp+=1\n",
        "    elif v==0 and t==0:\n",
        "      tn+=1\n",
        "    elif v==0 and t==1:\n",
        "      fn+=1\n",
        "  return numpy.array([tp+tn, fp+fn])\n",
        "  #return numpy.array([tp, fp, tn, fn])\n",
        "\n",
        "class_types = pred_type(df_uk['predictions'].values, labels)\n",
        "random_types =pred_type(random_dist, labels)\n",
        "print(class_types)\n",
        "print(random_types)\n",
        "\n",
        "ch, p = chisquare(random_types, f_exp = class_types)\n",
        "print('Class - Random')\n",
        "print(ch, p)\n",
        "\n",
        "print('---------------')\n",
        "print(unique_counts)\n",
        "\n",
        "\n",
        "\n",
        "random_weighted_type = pred_type(weighted, labels)\n",
        "print(sum(random_weighted_type), sum(class_types))\n",
        "ch, p = chisquare(random_weighted_type, f_exp=class_types)\n",
        "print('Class - Weighted Random')\n",
        "print(ch, p)\n"
      ],
      "execution_count": 4,
      "outputs": [
        {
          "output_type": "stream",
          "text": [
            "[547394  45371]\n",
            "[296042 296723]\n",
            "Class - Random\n",
            "1507887.214932009 0.0\n",
            "---------------\n",
            "[560698  32067]\n",
            "592765 592765\n",
            "Class - Weighted Random\n",
            "5686.138529781042 0.0\n"
          ],
          "name": "stdout"
        }
      ]
    },
    {
      "cell_type": "markdown",
      "metadata": {
        "id": "DLq3H-2eEa8-",
        "colab_type": "text"
      },
      "source": [
        "# Fine-grained approach (True Positives, False Positives, True Negatives, False Negatives)"
      ]
    },
    {
      "cell_type": "code",
      "metadata": {
        "id": "MV6E69uOzvw9",
        "colab_type": "code",
        "colab": {
          "base_uri": "https://localhost:8080/",
          "height": 82
        },
        "outputId": "cec758fe-48e3-4936-e792-fec992b1f668"
      },
      "source": [
        "def pred_type(predictions, truth):\n",
        "  p_type= []\n",
        "  for p, gt in zip(predictions, truth):\n",
        "    if p==1 and gt==1:\n",
        "      p_type.append('TP')\n",
        "    elif p==1 and gt==0:\n",
        "      p_type.append('FP')\n",
        "    elif p==0 and gt==1:\n",
        "      p_type.append('FN')\n",
        "    elif p==0 and gt==0:\n",
        "      p_type.append('TN')\n",
        "  return p_type\n",
        "\n",
        "\n",
        "def pre_type_overlap(classifier, benchmark, labels):\n",
        "  tp_tp, fp_tp, tn_tp, fn_tp = 0, 0, 0, 0\n",
        "  tp_fp, fp_fp, tn_fp, fn_fp = 0, 0, 0, 0\n",
        "  tp_tn, fp_tn, tn_tn, fn_tn =0, 0, 0, 0\n",
        "  tp_fn, fp_fn, tn_fn, fn_fn =0, 0, 0, 0\n",
        "  class_type = pred_type(classifier, labels)\n",
        "  bench_type = pred_type(benchmark, labels)\n",
        "  print(set(class_type))\n",
        "  print(set(bench_type))\n",
        "  for c, b in zip(class_type, bench_type):\n",
        "    if b =='TP':\n",
        "      if c =='TP':\n",
        "        tp_tp+=1\n",
        "      elif c =='FP':\n",
        "        fp_tp +=1\n",
        "      elif c =='TN':\n",
        "        tn_tp+=1\n",
        "      elif c =='FN':\n",
        "        fn_tp+=1\n",
        "\n",
        "    elif b =='FP':\n",
        "      if c =='TP':\n",
        "        tp_fp+=1\n",
        "      elif c =='FP':\n",
        "        fp_fp +=1\n",
        "      elif c =='TN':\n",
        "        tn_fp+=1\n",
        "      elif c =='FN':\n",
        "        fn_fp+=1\n",
        "    \n",
        "    elif b == 'TN':\n",
        "      if c =='TP':\n",
        "        tp_tn+=1\n",
        "      elif c =='FP':\n",
        "        fp_tn +=1\n",
        "      elif c =='TN':\n",
        "        tn_tn+=1\n",
        "      elif c =='FN':\n",
        "        fn_tn+=1\n",
        "    \n",
        "    elif b == 'FN':\n",
        "      if c =='TP':\n",
        "        tp_fn+=1\n",
        "      elif c =='FP':\n",
        "        fp_fn +=1\n",
        "      elif c =='TN':\n",
        "        tn_fn+=1\n",
        "      elif c =='FN':\n",
        "        fn_fn+=1\n",
        "  \n",
        "  return numpy.array([ numpy.array([tp_tp, fp_tp, tn_tp, fn_tp]), \n",
        "                      numpy.array([tp_fp, fp_fp, tn_fp, fn_fp]), \n",
        "                      numpy.array([tp_tn, fp_tn, tn_tn, fn_tn]), \n",
        "                      numpy.array([tp_fn, fp_fn, tn_fn, fn_fn])])\n",
        "  \n",
        "#cont_table_detail = pre_type_overlap(df_uk['predictions'].values, random_dist, labels)\n",
        "#print(cont_table_detail)\n",
        "\n",
        "class_type = cont_table_detail.sum(axis=0)\n",
        "bench_type = cont_table_detail.sum(axis=1)\n",
        "cont_table_detail_type = numpy.array([class_type,bench_type])\n",
        "\n",
        "\n",
        "chi2, p = chisquare(cont_table_detail_type[1], f_exp=cont_table_detail_type[0])\n",
        "print(chi2, p)\n",
        "\n",
        "\n",
        "print(cont_table_detail_type, type(cont_table_detail_type))\n",
        "#chi2, p = chi2_contingency(list(cont_table_detail_type))\n",
        "#chi2, p, dof, ex = chisquare(cont_table_detail)\n",
        "print(chi2, p)"
      ],
      "execution_count": 9,
      "outputs": [
        {
          "output_type": "stream",
          "text": [
            "2941022.039669541 0.0\n",
            "[[ 10196  23500 537198  21871]\n",
            " [ 15962 280618 280080  16105]] <class 'numpy.ndarray'>\n",
            "2941022.039669541 0.0\n"
          ],
          "name": "stdout"
        }
      ]
    },
    {
      "cell_type": "code",
      "metadata": {
        "id": "YXM07sjSCi9t",
        "colab_type": "code",
        "colab": {}
      },
      "source": [
        ""
      ],
      "execution_count": null,
      "outputs": []
    }
  ]
}